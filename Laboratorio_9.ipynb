{
  "nbformat": 4,
  "nbformat_minor": 0,
  "metadata": {
    "colab": {
      "provenance": [],
      "authorship_tag": "ABX9TyO7qyIG82kQRfg47ywlhI72",
      "include_colab_link": true
    },
    "kernelspec": {
      "name": "python3",
      "display_name": "Python 3"
    },
    "language_info": {
      "name": "python"
    }
  },
  "cells": [
    {
      "cell_type": "markdown",
      "metadata": {
        "id": "view-in-github",
        "colab_type": "text"
      },
      "source": [
        "<a href=\"https://colab.research.google.com/github/JUERNES360/Biblioteca/blob/main/Laboratorio_9.ipynb\" target=\"_parent\"><img src=\"https://colab.research.google.com/assets/colab-badge.svg\" alt=\"Open In Colab\"/></a>"
      ]
    },
    {
      "cell_type": "code",
      "execution_count": 1,
      "metadata": {
        "colab": {
          "base_uri": "https://localhost:8080/"
        },
        "id": "nmfjCbH_aNvZ",
        "outputId": "c63fda6f-b290-4df6-eae9-46d1eeee5a4a"
      },
      "outputs": [
        {
          "output_type": "stream",
          "name": "stdout",
          "text": [
            "Valores faltantes:\n",
            "Nombre          0\n",
            "Edad            1\n",
            "Salario         0\n",
            "FechaIngreso    0\n",
            "dtype: int64\n",
            "\n",
            "Formato incorrecto en 'Salario':\n",
            "  Nombre  Edad    Salario FechaIngreso\n",
            "2  Pedro   NaN  cinco mil   2022-07-01\n",
            "\n",
            "Datos después de la validación y estandarización de 'FechaIngreso':\n",
            "  Nombre  Edad    Salario FechaIngreso\n",
            "0   Juan  28.0       3000   2021-01-15\n",
            "1    Ana  34.0       4000          NaT\n",
            "2  Pedro   NaN  cinco mil   2022-07-01\n",
            "3  María  45.0       4500          NaT\n",
            "4   Luis  38.0       4000   2021-05-20\n",
            "5    Ana  34.0       5000   2020-03-12\n"
          ]
        }
      ],
      "source": [
        "#Se tiene un conjunto de datos sobre empleados que incluye su nombre, edad, salario y fecha de ingreso.\n",
        "#Se requiere implementar algunos pasos de aseguramiento de la calidad de los datos,\n",
        "#como la verificación de valores faltantes y la validación de formatos de datos.\n",
        "\n",
        "import pandas as pd\n",
        "\n",
        "# Datos originales\n",
        "data = {\n",
        "'Nombre': ['Juan', 'Ana', 'Pedro', 'María', 'Luis', 'Ana'],\n",
        "'Edad': [28, 34, None, 45, 38, 34],\n",
        "'Salario': ['3000', '4000', 'cinco mil', '4500', '4000', '5000'],\n",
        "'FechaIngreso': ['2021-01-15', '2020/03/12', '2022-07-01', '2021/12/01', '2021-05-20', '2020-03-12']\n",
        "}\n",
        "df = pd.DataFrame(data)\n",
        "\n",
        "# 1. Identificar y contar valores faltantes\n",
        "print(\"Valores faltantes:\")\n",
        "print(df.isnull().sum())\n",
        "\n",
        "# 2. Verificar formato de 'Salario'\n",
        "\n",
        "print(\"\\nFormato incorrecto en 'Salario':\")\n",
        "print(df[~df['Salario'].str.replace('[^0-9]', '').str.isdigit()])\n",
        "\n",
        "# 3. Validar y estandarizar 'FechaIngreso'\n",
        "df['FechaIngreso'] = pd.to_datetime(df['FechaIngreso'], errors='coerce', format='%Y-%m-%d')\n",
        "print(\"\\nDatos después de la validación y estandarización de 'FechaIngreso':\")\n",
        "\n",
        "print(df)"
      ]
    },
    {
      "cell_type": "code",
      "source": [
        "#2.\t#Se tiene un conjunto de datos sobre empleados que incluye su nombre, edad, salario, cargo de trabajo y fecha de ingreso.\n",
        "#Se requiere implementar aseguramiento de la calidad de los datos, verificando la completitud de los datos, la validez de los salarios y la consistencia de las fechas de ingreso.\n",
        "\n",
        "import pandas as pd\n",
        "\n",
        "# Datos originales\n",
        "data = {\n",
        "'Nombre': ['Juan', 'Ana', 'Pedro', 'María', 'Luis', 'Carla'],\n",
        "'Edad': [28, None, 40, 45, 38, 34],\n",
        "'Salario': ['3000', '4000', '4500', 'cuatro mil', '5000', '4000'],\n",
        "'Cargo': ['Analista', 'Gerente', 'Desarrollador', 'Gerente', 'Analista', None],\n",
        "'FechaIngreso': ['2021-01-15', '2020/03/12', '2022-07-01', '2021/12/01', None, '2020-03-12']\n",
        "}\n",
        "\n",
        "df = pd.DataFrame(data)\n",
        "\n",
        "# 1. Identificar y contar valores faltantes\n",
        "valores_faltantes = df.isnull().sum()\n",
        "print(\"Valores faltantes por columna:\")\n",
        "print(valores_faltantes)\n",
        "\n",
        "# 2. Verificar formato de 'Salario'(asegurar que todos los valores sean numéricos)\n",
        "salarios_incorrectos = df[~df['Salario'].str.replace('[^0-9]', '', regex=True).str.isdigit()]\n",
        "print(\"\\nSalarios con formato incorrecto:\")\n",
        "print(salarios_incorrectos)\n",
        "\n",
        "# 3. Validar y estandarizar 'FechaIngreso' a formato YYYY-MM-DD\n",
        "df['FechaIngreso'] = pd.to_datetime(df['FechaIngreso'], errors='coerce', format='%Y-%m-%d')\n",
        "\n",
        "# 4. Verificar valores faltantes en la columna \"Cargo\"\n",
        "Cargo_faltantes = df[df['Cargo'].isnull()]\n",
        "print(\"\\nCargo faltantes:\")\n",
        "print(Cargo_faltantes)\n",
        "\n",
        "# Mostrar el DataFrame actualizado\n",
        "print(\"\\nDatos después de la validación:\")\n",
        "print(df)\n",
        "(valores_faltantes, salarios_incorrectos)"
      ],
      "metadata": {
        "colab": {
          "base_uri": "https://localhost:8080/"
        },
        "id": "at7SWLaKaYON",
        "outputId": "e1408928-73da-4271-c2ff-14d8ca554378"
      },
      "execution_count": 2,
      "outputs": [
        {
          "output_type": "stream",
          "name": "stdout",
          "text": [
            "Valores faltantes por columna:\n",
            "Nombre          0\n",
            "Edad            1\n",
            "Salario         0\n",
            "Cargo           1\n",
            "FechaIngreso    1\n",
            "dtype: int64\n",
            "\n",
            "Salarios con formato incorrecto:\n",
            "  Nombre  Edad     Salario    Cargo FechaIngreso\n",
            "3  María  45.0  cuatro mil  Gerente   2021/12/01\n",
            "\n",
            "Cargo faltantes:\n",
            "  Nombre  Edad Salario Cargo FechaIngreso\n",
            "5  Carla  34.0    4000  None   2020-03-12\n",
            "\n",
            "Datos después de la validación:\n",
            "  Nombre  Edad     Salario          Cargo FechaIngreso\n",
            "0   Juan  28.0        3000       Analista   2021-01-15\n",
            "1    Ana   NaN        4000        Gerente          NaT\n",
            "2  Pedro  40.0        4500  Desarrollador   2022-07-01\n",
            "3  María  45.0  cuatro mil        Gerente          NaT\n",
            "4   Luis  38.0        5000       Analista          NaT\n",
            "5  Carla  34.0        4000           None   2020-03-12\n"
          ]
        },
        {
          "output_type": "execute_result",
          "data": {
            "text/plain": [
              "(Nombre          0\n",
              " Edad            1\n",
              " Salario         0\n",
              " Cargo           1\n",
              " FechaIngreso    1\n",
              " dtype: int64,\n",
              "   Nombre  Edad     Salario    Cargo FechaIngreso\n",
              " 3  María  45.0  cuatro mil  Gerente   2021/12/01)"
            ]
          },
          "metadata": {},
          "execution_count": 2
        }
      ]
    },
    {
      "cell_type": "code",
      "source": [],
      "metadata": {
        "id": "pIYRzRj6aX_B"
      },
      "execution_count": null,
      "outputs": []
    }
  ]
}