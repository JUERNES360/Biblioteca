{
  "nbformat": 4,
  "nbformat_minor": 0,
  "metadata": {
    "colab": {
      "provenance": [],
      "authorship_tag": "ABX9TyOy+N8DraEubSahYMaVa4NU",
      "include_colab_link": true
    },
    "kernelspec": {
      "name": "python3",
      "display_name": "Python 3"
    },
    "language_info": {
      "name": "python"
    }
  },
  "cells": [
    {
      "cell_type": "markdown",
      "metadata": {
        "id": "view-in-github",
        "colab_type": "text"
      },
      "source": [
        "<a href=\"https://colab.research.google.com/github/JUERNES360/Biblioteca/blob/main/Laboratorio_7.ipynb\" target=\"_parent\"><img src=\"https://colab.research.google.com/assets/colab-badge.svg\" alt=\"Open In Colab\"/></a>"
      ]
    },
    {
      "cell_type": "code",
      "execution_count": null,
      "metadata": {
        "id": "yDum4efiJsQR"
      },
      "outputs": [],
      "source": [
        "#Algoritmo en código para Preparar un Té\n",
        "Agua_caliente = true\n",
        "bolsa_te = true\n",
        "\n",
        "if agua_caliente and bolsa_te:\n",
        "\tprint(\"Colocar la bolsa de te en la taza\")\n",
        "\tprint(\"Vierte el agua caliente en la taza\")\n",
        "\tprint(\"Esperar 3-5 minutos\")\n",
        "\tprint(\"Retirar la bolsa de te y disfrutar sr JONATHAN R\")\n",
        "else:\n",
        "\tprint(\"NO puedes preparar el te porque falta agua caliente o bolsa de te.\")\n"
      ]
    },
    {
      "cell_type": "code",
      "source": [
        "# Variables para almacenar las notas\n",
        "notas1 = 4.0\n",
        "notas2 = 3.5\n",
        "notas3 = 4.2\n",
        "\n",
        "# Calcular el promedio\n",
        "promedio = (notas1 + notas2 + notas3) / 3\n",
        "print(\"El promedio de las notas es:\", promedio)"
      ],
      "metadata": {
        "id": "FMGb54lIJxOS"
      },
      "execution_count": null,
      "outputs": []
    },
    {
      "cell_type": "code",
      "source": [
        "#Solicitar el numero al usuario\n",
        "-\tnumero = int(input(\"Ingrese un numero: \"))\n",
        "-\t#verificar si es par o impar\n",
        "-\n",
        "\tif numero % 2 == 0:\n",
        "-\t  print(\"El numero es par\")\n",
        "-\telse:\n",
        "-\t  print(\"El numero es impar\")"
      ],
      "metadata": {
        "id": "pxQ4IB5JJz6w"
      },
      "execution_count": null,
      "outputs": []
    }
  ]
}