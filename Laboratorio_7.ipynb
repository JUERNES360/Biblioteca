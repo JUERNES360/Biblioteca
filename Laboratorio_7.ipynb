{
  "nbformat": 4,
  "nbformat_minor": 0,
  "metadata": {
    "colab": {
      "provenance": [],
      "authorship_tag": "ABX9TyMeiDamXZmE50BvdN/SQXZH",
      "include_colab_link": true
    },
    "kernelspec": {
      "name": "python3",
      "display_name": "Python 3"
    },
    "language_info": {
      "name": "python"
    }
  },
  "cells": [
    {
      "cell_type": "markdown",
      "metadata": {
        "id": "view-in-github",
        "colab_type": "text"
      },
      "source": [
        "<a href=\"https://colab.research.google.com/github/JUERNES360/Biblioteca/blob/main/Laboratorio_7.ipynb\" target=\"_parent\"><img src=\"https://colab.research.google.com/assets/colab-badge.svg\" alt=\"Open In Colab\"/></a>"
      ]
    },
    {
      "cell_type": "code",
      "execution_count": null,
      "metadata": {
        "id": "yDum4efiJsQR"
      },
      "outputs": [],
      "source": [
        "#Algoritmo en código para Preparar un Té\n",
        "Agua_caliente = true\n",
        "bolsa_te = true\n",
        "\n",
        "if agua_caliente and bolsa_te:\n",
        "\tprint(\"Colocar la bolsa de te en la taza\")\n",
        "\tprint(\"Vierte el agua caliente en la taza\")\n",
        "\tprint(\"Esperar 3-5 minutos\")\n",
        "\tprint(\"Retirar la bolsa de te y disfrutar sr JONATHAN R\")\n",
        "else:\n",
        "\tprint(\"NO puedes preparar el te porque falta agua caliente o bolsa de te.\")\n"
      ]
    },
    {
      "cell_type": "code",
      "source": [
        "# Variables para almacenar las notas\n",
        "notas1 = 4.0\n",
        "notas2 = 3.5\n",
        "notas3 = 4.2\n",
        "\n",
        "# Calcular el promedio\n",
        "promedio = (notas1 + notas2 + notas3) / 3\n",
        "print(\"El promedio de las notas es:\", promedio)"
      ],
      "metadata": {
        "id": "FMGb54lIJxOS"
      },
      "execution_count": null,
      "outputs": []
    },
    {
      "cell_type": "code",
      "source": [
        "#Solicitar el numero al usuario\n",
        "-\tnumero = int(input(\"Ingrese un numero: \"))\n",
        "-\t#verificar si es par o impar\n",
        "-\n",
        "\tif numero % 2 == 0:\n",
        "-\t  print(\"El numero es par\")\n",
        "-\telse:\n",
        "-\t  print(\"El numero es impar\")"
      ],
      "metadata": {
        "id": "pxQ4IB5JJz6w"
      },
      "execution_count": null,
      "outputs": []
    },
    {
      "cell_type": "code",
      "source": [
        "#Usar un bucle for para recorrer los numeros del 1 al 5 o al 100 ejercicio No.4\n",
        "\n",
        "for num in range(1, 6):\n",
        "  if num % 2 == 0:\n",
        "      print(f\"{num} es par\")\n",
        "  else:\n",
        "      print(f\"{num} es impar\")\n"
      ],
      "metadata": {
        "colab": {
          "base_uri": "https://localhost:8080/"
        },
        "id": "ZZWo1zK8SBG9",
        "outputId": "4732cf03-f324-4391-c599-e9633065333d"
      },
      "execution_count": 4,
      "outputs": [
        {
          "output_type": "stream",
          "name": "stdout",
          "text": [
            "1 es impar\n",
            "2 es par\n",
            "3 es impar\n",
            "4 es par\n",
            "5 es impar\n"
          ]
        }
      ]
    },
    {
      "cell_type": "code",
      "source": [
        "#Definir la funcion para convertir celsius a fahrenheit\n",
        "\n",
        "def convertir_a_fahrenheit(celsius):\n",
        "  fahrenheit = (celsius * 9/5) + 32\n",
        "  return fahrenheit\n",
        "\n",
        "  #Solicitar la tempeeratura en celsius al usuario\n",
        "\n",
        "celsius = float(input(\"Ingrese la temperatura en grados celsius: \"))\n",
        "\n",
        "#Convertir la temperatura a fahrenheit\n",
        "resultado = convertir_a_fahrenheit(celsius)\n",
        "\n",
        "#Mostrar la temperatura en fahrenheit\n",
        "print(f\"La temperatura en grados fahrenheit es: {resultado}\")\n"
      ],
      "metadata": {
        "colab": {
          "base_uri": "https://localhost:8080/"
        },
        "id": "RcKQ7mWoTuYV",
        "outputId": "9c2b91b4-0df0-4f20-e639-ff9b1049c136"
      },
      "execution_count": 6,
      "outputs": [
        {
          "output_type": "stream",
          "name": "stdout",
          "text": [
            "Ingrese la temperatura en grados celsius: 25\n",
            "La temperatura en grados fahrenheit es: 77.0\n"
          ]
        }
      ]
    },
    {
      "cell_type": "code",
      "source": [
        "########### Ejerecicio 6 ###########\n",
        "\n",
        "#Solicitar una cadena de texto\n",
        "texto = input(\"ingrese una frase: \")\n",
        "\n",
        "#inicializar el contador de vocales\n",
        "contador_vocales = 0\n",
        "\n",
        "#Recorrer cada caracter del texto\n",
        "for letra in texto.lower():\n",
        "  if letra in \"aeiou\":\n",
        "    contador_vocales += 1\n",
        "\n",
        "#Mostrar el resultado\n",
        "print(f\"El numero de vocales en la frase es: {contador_vocales} vacales.\")\n",
        "#\n"
      ],
      "metadata": {
        "colab": {
          "base_uri": "https://localhost:8080/"
        },
        "id": "HbQnjR7_UXxF",
        "outputId": "fce13434-92c5-42f9-f1bb-63e2db1580c9"
      },
      "execution_count": 9,
      "outputs": [
        {
          "output_type": "stream",
          "name": "stdout",
          "text": [
            "ingrese una frase: Estoy aprendiendo python\n",
            "El numero de vocales en la frase es: 8 vacales.\n"
          ]
        }
      ]
    },
    {
      "cell_type": "code",
      "source": [
        "#Solicitar un numero al usuario\n",
        "numero = int(input(\"Ingrese un numero para calcular su factorial: \"))\n",
        "\n",
        "#inicializar el factorial en 1\n",
        "factorial = 1\n",
        "contador = numero\n",
        "\n",
        "#Calcular el factorial usando un bucle while\n",
        "while contador > 1:\n",
        "  factorial *= contador\n",
        "  contador -= 1\n",
        "\n",
        "#Mostrar el resultado\n",
        "print(f\"El factorial de {numero} es: {factorial}\")\n"
      ],
      "metadata": {
        "colab": {
          "base_uri": "https://localhost:8080/"
        },
        "id": "U-rbJiFKVgsl",
        "outputId": "221a14d2-f3f7-4833-fc27-4b1d2596b912"
      },
      "execution_count": 10,
      "outputs": [
        {
          "output_type": "stream",
          "name": "stdout",
          "text": [
            "Ingrese un numero para calcular su factorial: 2\n",
            "El factorial de 2 es: 2\n"
          ]
        }
      ]
    }
  ]
}