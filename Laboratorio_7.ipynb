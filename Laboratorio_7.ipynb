{
  "nbformat": 4,
  "nbformat_minor": 0,
  "metadata": {
    "colab": {
      "provenance": [],
      "authorship_tag": "ABX9TyMQfp55+/yHZOmH9bcb/gjD",
      "include_colab_link": true
    },
    "kernelspec": {
      "name": "python3",
      "display_name": "Python 3"
    },
    "language_info": {
      "name": "python"
    }
  },
  "cells": [
    {
      "cell_type": "markdown",
      "metadata": {
        "id": "view-in-github",
        "colab_type": "text"
      },
      "source": [
        "<a href=\"https://colab.research.google.com/github/JUERNES360/Biblioteca/blob/main/Laboratorio_7.ipynb\" target=\"_parent\"><img src=\"https://colab.research.google.com/assets/colab-badge.svg\" alt=\"Open In Colab\"/></a>"
      ]
    },
    {
      "cell_type": "code",
      "execution_count": 12,
      "metadata": {
        "colab": {
          "base_uri": "https://localhost:8080/"
        },
        "id": "nXVLKsr3AppF",
        "outputId": "73547285-fce9-4ded-c76a-31dc586c1dcc"
      },
      "outputs": [
        {
          "output_type": "stream",
          "name": "stdout",
          "text": [
            "    Nombre     Profesion     Paises\n",
            "0      Ana   Ama de casa      Chile\n",
            "1     Luis     Ingeniero     Canada\n",
            "2   Carlos    Odontologo  Nicaragua\n",
            "3    Maria      Mecanico   Portugal\n",
            "4  Ernesto  Electricista   Honduras\n",
            "5    Berta       Abogado     España\n",
            "6    Luisa     Enfermera   Colombia\n",
            "7    Angel        Medico    Holanda\n"
          ]
        }
      ],
      "source": [
        "import pandas as pd\n",
        "\n",
        "data = {\n",
        "  'Nombre': ['Ana','Luis','Carlos','Maria','Ernesto','Berta','Luisa','Angel'],\n",
        "  'Profesion': ['Ama de casa','Ingeniero','Odontologo','Mecanico','Electricista','Abogado','Enfermera','Medico',],\n",
        "  'Paises': ['Chile','Canada','Nicaragua','Portugal','Honduras','España','Colombia','Holanda']\n",
        "}\n",
        "\n",
        "df = pd.DataFrame(data)\n",
        "print(df)"
      ]
    },
    {
      "cell_type": "code",
      "source": [
        "import pandas as pd\n",
        "# cargar el archivo CSV que esta en la carpte comp\n",
        "data = pd.read_json('data.json') #reemplaza 'nombre_del_archivo.csv' el nombre de tu archivo\n",
        "print(df.head())"
      ],
      "metadata": {
        "colab": {
          "base_uri": "https://localhost:8080/"
        },
        "id": "1HwrgMtYIFfS",
        "outputId": "7e1bad67-3f67-4e17-b375-c4c526e8eb69"
      },
      "execution_count": 14,
      "outputs": [
        {
          "output_type": "stream",
          "name": "stdout",
          "text": [
            "    Nombre     Profesion     Paises\n",
            "0      Ana   Ama de casa      Chile\n",
            "1     Luis     Ingeniero     Canada\n",
            "2   Carlos    Odontologo  Nicaragua\n",
            "3    Maria      Mecanico   Portugal\n",
            "4  Ernesto  Electricista   Honduras\n"
          ]
        }
      ]
    },
    {
      "cell_type": "code",
      "source": [
        "# Generar un DataFrame con 100 filas y 8 columnas de valores aleatorios,\n",
        "#y luego mostrar un resumen estadístico de los datos\n",
        "\n",
        "import pandas as pd\n",
        "import numpy as np #traer la libreria de numpy\n",
        "df = pd.DataFrame(np.random.rand(100, 8))\n",
        "print(df.describe())"
      ],
      "metadata": {
        "colab": {
          "base_uri": "https://localhost:8080/"
        },
        "id": "iTPA7otdNcz9",
        "outputId": "c06641a7-3bdb-4558-e5e8-143f604e89a7"
      },
      "execution_count": 15,
      "outputs": [
        {
          "output_type": "stream",
          "name": "stdout",
          "text": [
            "                0           1           2           3           4           5  \\\n",
            "count  100.000000  100.000000  100.000000  100.000000  100.000000  100.000000   \n",
            "mean     0.530074    0.482395    0.478842    0.508263    0.591713    0.530998   \n",
            "std      0.283723    0.287223    0.298922    0.273389    0.257941    0.264266   \n",
            "min      0.027015    0.001108    0.003851    0.001708    0.051655    0.030180   \n",
            "25%      0.323970    0.224736    0.198899    0.286720    0.406679    0.342910   \n",
            "50%      0.512445    0.469737    0.523370    0.484767    0.578465    0.576703   \n",
            "75%      0.777344    0.713958    0.734400    0.718477    0.820668    0.734817   \n",
            "max      0.994898    0.972990    0.983607    0.985271    0.992403    0.990905   \n",
            "\n",
            "                6           7  \n",
            "count  100.000000  100.000000  \n",
            "mean     0.492905    0.566898  \n",
            "std      0.287741    0.284417  \n",
            "min      0.009922    0.009697  \n",
            "25%      0.239543    0.311523  \n",
            "50%      0.495935    0.625464  \n",
            "75%      0.734425    0.775617  \n",
            "max      0.992687    0.999287  \n"
          ]
        }
      ]
    },
    {
      "cell_type": "code",
      "source": [
        "# Crear un array de números del 1 al 10 y mostrar la suma, la media, y el valor máximo.\n",
        "import numpy as np\n",
        "arr = np.arange(1,11)\n",
        "print(\"Array:\",arr)\n",
        "print(\"Suma:\",arr.sum())\n",
        "print(\"Media:\",arr.mean())\n",
        "print(\"Maximo:\",arr.max())\n",
        "\n"
      ],
      "metadata": {
        "colab": {
          "base_uri": "https://localhost:8080/"
        },
        "id": "Hj1CHFEjPwZk",
        "outputId": "6b656514-0348-4676-cd91-60de8850d146"
      },
      "execution_count": 19,
      "outputs": [
        {
          "output_type": "stream",
          "name": "stdout",
          "text": [
            "Array: [ 1  2  3  4  5  6  7  8  9 10]\n",
            "Suma: 55\n",
            "Media: 5.5\n",
            "Maximo: 10\n"
          ]
        }
      ]
    },
    {
      "cell_type": "code",
      "source": [
        "# Crear un array de 3x4 lleno de ceros y luego cambiar su forma a 2x6\n",
        "import numpy as np\n",
        "arr = np.zeros((3, 4))\n",
        "print(\"Array original (3x4):\")\n",
        "print(arr)\n",
        "print()\n",
        "#camabiar la forma\n",
        "arr = arr.reshape((2, 6))\n",
        "print(\"Array despues de reshape (2x6):\")\n",
        "print(arr)"
      ],
      "metadata": {
        "colab": {
          "base_uri": "https://localhost:8080/"
        },
        "id": "crVuSACaTYgb",
        "outputId": "175ce5bd-c4e6-42e9-d10b-bf8cae1aad50"
      },
      "execution_count": 22,
      "outputs": [
        {
          "output_type": "stream",
          "name": "stdout",
          "text": [
            "Array original (3x4):\n",
            "[[0. 0. 0. 0.]\n",
            " [0. 0. 0. 0.]\n",
            " [0. 0. 0. 0.]]\n",
            "\n",
            "Array despues de reshape (2x6):\n",
            "[[0. 0. 0. 0. 0. 0.]\n",
            " [0. 0. 0. 0. 0. 0.]]\n"
          ]
        }
      ]
    },
    {
      "cell_type": "code",
      "source": [
        "# Generar una matriz aleatoria de 3x3 y calcular su transpuesta.\n",
        "\n",
        "import numpy as np\n",
        "arr = np.random.rand(3, 3)\n",
        "print(\"Matriz Original:\")\n",
        "print(arr)\n",
        "print()\n",
        "transpuesta = arr.T\n",
        "print(\"Matriz Transpuesta:\")\n",
        "print(transpuesta)"
      ],
      "metadata": {
        "colab": {
          "base_uri": "https://localhost:8080/"
        },
        "id": "9mNKhHjoVfKA",
        "outputId": "b3f91dcd-024d-4403-deee-23297015bd1c"
      },
      "execution_count": 24,
      "outputs": [
        {
          "output_type": "stream",
          "name": "stdout",
          "text": [
            "Matriz Original:\n",
            "[[0.47529715 0.15765634 0.13764156]\n",
            " [0.98426244 0.36101566 0.41702857]\n",
            " [0.88902295 0.7513846  0.64656147]]\n",
            "\n",
            "Matriz Transpuesta:\n",
            "[[0.47529715 0.98426244 0.88902295]\n",
            " [0.15765634 0.36101566 0.7513846 ]\n",
            " [0.13764156 0.41702857 0.64656147]]\n"
          ]
        }
      ]
    },
    {
      "cell_type": "code",
      "source": [
        "# - Concatenar dos arrays de NumPy, cada uno con 5 valores, y luego imprimir el\n",
        "# array concatenado. %%\n",
        "\n",
        "import pandas as np\n",
        "import numpy as np\n",
        "\n",
        "a = np.array([1,2,3,4,5])\n",
        "b = np.array([6,7,8,9,10])\n",
        "arr_concatenado = np.concatenate((a,b))\n",
        "print(\"Array concatenado:\",arr_concatenado)\n",
        "\n"
      ],
      "metadata": {
        "colab": {
          "base_uri": "https://localhost:8080/"
        },
        "id": "n4vlSE66Zvap",
        "outputId": "77946743-90b1-426c-a4f5-3f786ae2bc54"
      },
      "execution_count": 26,
      "outputs": [
        {
          "output_type": "stream",
          "name": "stdout",
          "text": [
            "Array concatenado: [ 1  2  3  4  5  6  7  8  9 10]\n"
          ]
        }
      ]
    },
    {
      "cell_type": "code",
      "source": [],
      "metadata": {
        "id": "vQLiX0BsZvJk"
      },
      "execution_count": null,
      "outputs": []
    }
  ]
}