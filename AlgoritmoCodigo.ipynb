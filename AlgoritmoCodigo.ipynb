{
  "nbformat": 4,
  "nbformat_minor": 0,
  "metadata": {
    "colab": {
      "provenance": [],
      "authorship_tag": "ABX9TyNfuoYZ9AWF7UD7eCND+9bG",
      "include_colab_link": true
    },
    "kernelspec": {
      "name": "python3",
      "display_name": "Python 3"
    },
    "language_info": {
      "name": "python"
    }
  },
  "cells": [
    {
      "cell_type": "markdown",
      "metadata": {
        "id": "view-in-github",
        "colab_type": "text"
      },
      "source": [
        "<a href=\"https://colab.research.google.com/github/JUERNES360/Biblioteca/blob/main/AlgoritmoCodigo.ipynb\" target=\"_parent\"><img src=\"https://colab.research.google.com/assets/colab-badge.svg\" alt=\"Open In Colab\"/></a>"
      ]
    },
    {
      "cell_type": "code",
      "source": [
        "#Algoritmo en código para Preparar un Té# 1\n",
        "\n",
        "agua_caliente = True\n",
        "bolsa_te = True\n",
        "\n",
        "if agua_caliente and bolsa_te:\n",
        "\t  print(\"Colocar la bolsa de te en la taza\")\n",
        "\t  print(\"Vierte el agua caliente en la taza\")\n",
        "\t  print(\"Esperar 3-5 minutos\")\n",
        "\t  print(\"Retirar la bolsa de te y disfrutar sr JONATHAN ROBLEDO\")\n",
        "else:\n",
        "\t  print(\"NO puedes preparar el te porque falta agua caliente o bolsa de te.\")"
      ],
      "metadata": {
        "colab": {
          "base_uri": "https://localhost:8080/"
        },
        "id": "pzneJhniXoQn",
        "outputId": "9beb5419-8e44-4f41-d847-e2253437ff3a"
      },
      "execution_count": 12,
      "outputs": [
        {
          "output_type": "stream",
          "name": "stdout",
          "text": [
            "Colocar la bolsa de te en la taza\n",
            "Vierte el agua caliente en la taza\n",
            "Esperar 3-5 minutos\n",
            "Retirar la bolsa de te y disfrutar sr JONATHAN ROBLEDO\n"
          ]
        }
      ]
    },
    {
      "cell_type": "code",
      "source": [
        "# Variables para almacenar las notas 2\n",
        "\n",
        "notas1 = 4.0\n",
        "notas2 = 3.5\n",
        "notas3 = 4.2\n",
        "\n",
        "# Calcular el promedio\n",
        "promedio = (notas1 + notas2 + notas3) / 3\n",
        "print(\"El promedio de las notas es:\", promedio)\n"
      ],
      "metadata": {
        "colab": {
          "base_uri": "https://localhost:8080/"
        },
        "id": "ypquPCFAZzL8",
        "outputId": "ef2d569e-8e0a-47b7-cdcf-7b89844e26c2"
      },
      "execution_count": 13,
      "outputs": [
        {
          "output_type": "stream",
          "name": "stdout",
          "text": [
            "El promedio de las notas es: 3.9\n"
          ]
        }
      ]
    },
    {
      "cell_type": "code",
      "source": [
        "#Solicitar el numero de usuario 3\n",
        "numero = int(input(\"Ingrese un numero: \"))\n",
        "#verificar si es par o impar\n",
        "if numero % 2 == 0:\n",
        "  print(\"El numero es par\")\n",
        "else:\n",
        "  print(\"El numero es impar\")"
      ],
      "metadata": {
        "colab": {
          "base_uri": "https://localhost:8080/"
        },
        "id": "WKyLV6hEbn2H",
        "outputId": "6fe4d4fb-135d-484e-b4dc-fc987f81d543"
      },
      "execution_count": 20,
      "outputs": [
        {
          "output_type": "stream",
          "name": "stdout",
          "text": [
            "Ingrese un numero: 23\n",
            "El numero es impar\n"
          ]
        }
      ]
    },
    {
      "cell_type": "code",
      "source": [
        "#Usar un bucle for para recorrer los numeros del 1 al 5 o al 100 No.4\n",
        "for num in range(1, 6):\n",
        "  if num % 2 == 0:\n",
        "      print(f\"{num} es par\")\n",
        "  else:\n",
        "      print(f\"{num} es impar\")\n"
      ],
      "metadata": {
        "colab": {
          "base_uri": "https://localhost:8080/"
        },
        "id": "qyL2Q88DjtbJ",
        "outputId": "8c864427-7e9b-4554-9949-0b47042a0698"
      },
      "execution_count": 27,
      "outputs": [
        {
          "output_type": "stream",
          "name": "stdout",
          "text": [
            "1 es impar\n",
            "2 es par\n",
            "3 es impar\n",
            "4 es par\n",
            "5 es impar\n"
          ]
        }
      ]
    },
    {
      "cell_type": "code",
      "source": [
        "#Definir la funcion para convertir celsius a fahrenheit\n",
        "\n",
        "def convertir_a_fahrenheit(celsius):\n",
        "  fahrenheit = (celsius * 9/5) + 32\n",
        "  return fahrenheit\n",
        "\n",
        "  #Solicitar la tempeeratura en celsius al usuario\n",
        "celsius = float(input(\"Ingrese la temperatura en grados celsius: \"))\n",
        "\n",
        "#Convertir la temperatura a fahrenheit\n",
        "resultado = convertir_a_fahrenheit(celsius)\n",
        "#Mostrar la temperatura en fahrenheit\n",
        "print(f\"La temperatura en grados fahrenheit es: {resultado}\")\n"
      ],
      "metadata": {
        "colab": {
          "base_uri": "https://localhost:8080/"
        },
        "id": "S_opE5Xk8hNa",
        "outputId": "e90c99fd-d8b2-4cf7-d193-39e9209c8980"
      },
      "execution_count": 10,
      "outputs": [
        {
          "output_type": "stream",
          "name": "stdout",
          "text": [
            "Ingrese la temperatura en grados celsius: 34.1\n",
            "La temperatura en grados fahrenheit es: 93.38000000000001\n"
          ]
        }
      ]
    },
    {
      "cell_type": "code",
      "source": [
        "#Solicitar una cadena de texto\n",
        "texto = input(\"ingrese una frase: \")\n",
        "\n",
        "#inicializar el contador de vocales\n",
        "contador_vocales = 0\n",
        "\n",
        "#Recorrer cada caracter del texto\n",
        "for letra in texto.lower():\n",
        "  if letra in \"aeiou\":\n",
        "    contador_vocales += 1\n",
        "\n",
        "#Mostrar el resultado\n",
        "print(f\"El numero de vocales en la frase es: {contador_vocales} vacales.\")\n",
        "#"
      ],
      "metadata": {
        "colab": {
          "base_uri": "https://localhost:8080/"
        },
        "id": "06X-yZSAHCE9",
        "outputId": "18b706b4-b35a-4f22-cbc1-6a4ba4062772"
      },
      "execution_count": 13,
      "outputs": [
        {
          "output_type": "stream",
          "name": "stdout",
          "text": [
            "ingrese una frase: estoy aprendiendo python\n",
            "El numero de vocales en la frase es: 8 vacales.\n"
          ]
        }
      ]
    },
    {
      "cell_type": "code",
      "source": [
        "#Solicitar un numero al usuario\n",
        "numero = int(input(\"Ingrese un numero para calcular su factorial: \"))\n",
        "\n",
        "#inicializar el factorial en 1\n",
        "factorial = 1\n",
        "contador = numero\n",
        "\n",
        "#Calcular el factorial usando un bucle while\n",
        "while contador > 1:\n",
        "  factorial *= contador\n",
        "  contador -= 1\n",
        "\n",
        "#Mostrar el resultado\n",
        "print(f\"El factorial de {numero} es: {factorial}\")\n",
        "#"
      ],
      "metadata": {
        "colab": {
          "base_uri": "https://localhost:8080/"
        },
        "id": "giDQFKxXLt9x",
        "outputId": "9b7137f0-1eac-43de-e023-0bdd3313cbc2"
      },
      "execution_count": 20,
      "outputs": [
        {
          "output_type": "stream",
          "name": "stdout",
          "text": [
            "Ingrese un numero para calcular su factorial: 23\n",
            "El factorial de 23 es: 25852016738884976640000\n"
          ]
        }
      ]
    }
  ]
}