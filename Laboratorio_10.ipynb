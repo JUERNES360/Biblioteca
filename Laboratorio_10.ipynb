{
  "nbformat": 4,
  "nbformat_minor": 0,
  "metadata": {
    "colab": {
      "provenance": [],
      "authorship_tag": "ABX9TyN8u8ucIkch4rGzgCi3unzT",
      "include_colab_link": true
    },
    "kernelspec": {
      "name": "python3",
      "display_name": "Python 3"
    },
    "language_info": {
      "name": "python"
    }
  },
  "cells": [
    {
      "cell_type": "markdown",
      "metadata": {
        "id": "view-in-github",
        "colab_type": "text"
      },
      "source": [
        "<a href=\"https://colab.research.google.com/github/JUERNES360/Biblioteca/blob/main/Laboratorio_10.ipynb\" target=\"_parent\"><img src=\"https://colab.research.google.com/assets/colab-badge.svg\" alt=\"Open In Colab\"/></a>"
      ]
    },
    {
      "cell_type": "code",
      "execution_count": 1,
      "metadata": {
        "colab": {
          "base_uri": "https://localhost:8080/"
        },
        "id": "EHOBSn1Al-yE",
        "outputId": "bcab5e0f-d539-40b5-eed0-821573221eee"
      },
      "outputs": [
        {
          "output_type": "stream",
          "name": "stdout",
          "text": [
            "Datos originales:\n",
            "   Nombre  Edad FechaIngreso ResultadoPrueba\n",
            "0  Carlos  34.0   2021-01-15        Positivo\n",
            "1     Ana  29.0   2020/03/12        Negativo\n",
            "2    Luis   NaN   2022-07-01        Positivo\n",
            "3   Pedro  45.0   2021/12/01        Positivo\n",
            "4   María  25.0   2021-05-20        Negativo\n",
            "5    None  33.0   2020-03-12        Negativo\n",
            "\n",
            "Valores faltantes:\n",
            "Nombre             1\n",
            "Edad               1\n",
            "FechaIngreso       0\n",
            "ResultadoPrueba    0\n",
            "dtype: int64\n",
            "\n",
            "Datos después de la limpieza:\n",
            "   Nombre  Edad FechaIngreso ResultadoPrueba\n",
            "0  Carlos  34.0   2021-01-15        Positivo\n",
            "1     Ana  29.0          NaT        Negativo\n",
            "2    Luis  33.2   2022-07-01        Positivo\n",
            "3   Pedro  45.0          NaT        Positivo\n",
            "4   María  25.0   2021-05-20        Negativo\n"
          ]
        },
        {
          "output_type": "stream",
          "name": "stderr",
          "text": [
            "<ipython-input-1-cb57d1885317>:20: FutureWarning: A value is trying to be set on a copy of a DataFrame or Series through chained assignment using an inplace method.\n",
            "The behavior will change in pandas 3.0. This inplace method will never work because the intermediate object on which we are setting values always behaves as a copy.\n",
            "\n",
            "For example, when doing 'df[col].method(value, inplace=True)', try using 'df.method({col: value}, inplace=True)' or df[col] = df[col].method(value) instead, to perform the operation inplace on the original object.\n",
            "\n",
            "\n",
            "  df['Edad'].fillna(df['Edad'].mean(), inplace=True)\n"
          ]
        }
      ],
      "source": [
        "import pandas as pd\n",
        "#1Datos originales\n",
        "data = {\n",
        "'Nombre': ['Carlos', 'Ana', 'Luis', 'Pedro', 'María', None],\n",
        "'Edad': [34, 29, None, 45, 25, 33],\n",
        "'FechaIngreso': ['2021-01-15', '2020/03/12', '2022-07-01', '2021/12/01', '2021-05-20', '2020-03-12'],\n",
        "'ResultadoPrueba': ['Positivo', 'Negativo', 'Positivo', 'Positivo', 'Negativo', 'Negativo']\n",
        "}\n",
        "df = pd.DataFrame(data)\n",
        "print(\"Datos originales:\")\n",
        "print(df)\n",
        "\n",
        "#2_identificacion de los datos faltantes\n",
        "print(\"\\nValores faltantes:\")\n",
        "print(df.isnull().sum())\n",
        "\n",
        "#3_Validar y corregir formato de fecha ingresa\n",
        "df['FechaIngreso'] = pd.to_datetime(df['FechaIngreso'], errors='coerce', format='%Y-%m-%d')\n",
        "#importar los valores faltantse de edad\n",
        "df['Edad'].fillna(df['Edad'].mean(), inplace=True)\n",
        "\n",
        "#Eliminar los registros faltantes\n",
        "df.dropna(subset=['Nombre'], inplace=True)\n",
        "print(\"\\nDatos después de la limpieza:\")\n",
        "print(df)"
      ]
    },
    {
      "cell_type": "code",
      "source": [
        "import pandas as pd\n",
        "\n",
        "#Datos Originales\n",
        "data = {\n",
        "'ClienteID': [1, 2, 3, 4, 5],\n",
        "'Producto': ['A', 'B', 'C', 'D', 'E'],\n",
        "'Cantidad': [10, 20, None, 5, 15],\n",
        "'Precio': ['100', '200$', '300', 'cuatrocientos', '500'],\n",
        "'FechaTransaccion': ['2023-01-15', '2023/02/20', '2023-03-25', '2023/04/30', '2023-05-10']\n",
        "}\n",
        "df = pd.DataFrame(data)\n",
        "print(\"Datos originales:\")\n",
        "print(df)\n",
        "df['Cantidad'] = df['Cantidad'].fillna(df['Cantidad'].median())\n",
        "df['Precio'] = df['Precio'].replace('cuatrocientos', '400')\n",
        "df['Precio'] = df['Precio'].str.replace(r'[^0-9]', '', regex=True).astype(int)\n",
        "df['FechaTransaccion'] = pd.to_datetime(df['FechaTransaccion'], errors='coerce', format='%Y-%m-%d')\n",
        "\n",
        "print(\"\\nDatos después de la limpieza:\")\n",
        "print(df)\n",
        "print(\"\\nVerificación final:\")\n",
        "print(df.isnull().sum())\n",
        "print(df.dtypes)"
      ],
      "metadata": {
        "colab": {
          "base_uri": "https://localhost:8080/"
        },
        "id": "dw6_fPynmEjb",
        "outputId": "81753691-b799-4ffc-df6a-f84b222081fc"
      },
      "execution_count": 2,
      "outputs": [
        {
          "output_type": "stream",
          "name": "stdout",
          "text": [
            "Datos originales:\n",
            "   ClienteID Producto  Cantidad         Precio FechaTransaccion\n",
            "0          1        A      10.0            100       2023-01-15\n",
            "1          2        B      20.0           200$       2023/02/20\n",
            "2          3        C       NaN            300       2023-03-25\n",
            "3          4        D       5.0  cuatrocientos       2023/04/30\n",
            "4          5        E      15.0            500       2023-05-10\n",
            "\n",
            "Datos después de la limpieza:\n",
            "   ClienteID Producto  Cantidad  Precio FechaTransaccion\n",
            "0          1        A      10.0     100       2023-01-15\n",
            "1          2        B      20.0     200              NaT\n",
            "2          3        C      12.5     300       2023-03-25\n",
            "3          4        D       5.0     400              NaT\n",
            "4          5        E      15.0     500       2023-05-10\n",
            "\n",
            "Verificación final:\n",
            "ClienteID           0\n",
            "Producto            0\n",
            "Cantidad            0\n",
            "Precio              0\n",
            "FechaTransaccion    2\n",
            "dtype: int64\n",
            "ClienteID                    int64\n",
            "Producto                    object\n",
            "Cantidad                   float64\n",
            "Precio                       int64\n",
            "FechaTransaccion    datetime64[ns]\n",
            "dtype: object\n"
          ]
        }
      ]
    },
    {
      "cell_type": "code",
      "source": [
        "#crear un dataframe de los datos sucios\n",
        "#1.\tRellenar valores faltantes.\n",
        "#2.\tEliminar duplicados.\n",
        "#3.\tEstandarizar los valores de las columnas (como el género y el país).\n",
        "#4.\tCorregir valores inválidos (como la edad de 200 años).\n",
        "\n",
        "import pandas as pd\n",
        "\n",
        "# Crear un DataFrame con los datos sucios\n",
        "data = {\n",
        "'Nombre': ['Juan', 'Maria', 'Pedro', 'Ana', 'Luisa', 'Carlos', 'Juan'], 'Edad': [25, 30, None, 29, 28, 200, 25],\n",
        "'Email': ['juan@mail.com',\t'maria@mail.com',\t'pedro@mail.com',\t'ana@mail.com', 'luisa@mail.com', 'carlos@mail.com', 'juan@mail.com'],\n",
        "'Pais': ['colombia', 'Colombia', 'Mexico', 'Argentina', 'Colombia', 'Brazil', 'colombia'],\n",
        "'Genero': ['M', 'F', 'H', 'F', 'Femenino', 'M', 'M'], 'Visitas': [5, 7, 6, 4, 8, 2, 5]\n",
        "}\n",
        "df = pd.DataFrame(data)\n",
        "\n",
        "# 1. Rellenar valores faltantes en 'Edad' con la mediana\n",
        "\n",
        "df['Edad'].fillna(df['Edad'].median(), inplace=True)\n",
        "\n",
        "# 2. Eliminar duplicados\n",
        "df.drop_duplicates(inplace=True)\n",
        "\n",
        "# 3. Estandarizar el género y el país\n",
        "\n",
        "df['Genero'].replace({'M': 'Masculino', 'H': 'Masculino', 'F': 'Femenino', 'Femenino': 'Femenino'}, inplace=True)\n",
        "df['Pais'] = df['Pais'].str.capitalize()\n",
        "\n",
        "# 4. Corregir edades fuera de rango\n",
        "df.loc[df['Edad'] > 100, 'Edad'] = df['Edad'].median()\n",
        "\n",
        "# Ver los datos limpios\n",
        "print(\"\\nDatos limpios:\")\n",
        "print(df)"
      ],
      "metadata": {
        "colab": {
          "base_uri": "https://localhost:8080/"
        },
        "id": "eW_-j9I8mEW6",
        "outputId": "03e065b7-4e3f-4ae0-8ba5-c97143ccc420"
      },
      "execution_count": 3,
      "outputs": [
        {
          "output_type": "stream",
          "name": "stderr",
          "text": [
            "<ipython-input-3-2ed6ae3bfdd4>:20: FutureWarning: A value is trying to be set on a copy of a DataFrame or Series through chained assignment using an inplace method.\n",
            "The behavior will change in pandas 3.0. This inplace method will never work because the intermediate object on which we are setting values always behaves as a copy.\n",
            "\n",
            "For example, when doing 'df[col].method(value, inplace=True)', try using 'df.method({col: value}, inplace=True)' or df[col] = df[col].method(value) instead, to perform the operation inplace on the original object.\n",
            "\n",
            "\n",
            "  df['Edad'].fillna(df['Edad'].median(), inplace=True)\n"
          ]
        },
        {
          "output_type": "stream",
          "name": "stdout",
          "text": [
            "\n",
            "Datos limpios:\n",
            "   Nombre   Edad            Email       Pais     Genero  Visitas\n",
            "0    Juan  25.00    juan@mail.com   Colombia  Masculino        5\n",
            "1   Maria  30.00   maria@mail.com   Colombia   Femenino        7\n",
            "2   Pedro  28.50   pedro@mail.com     Mexico  Masculino        6\n",
            "3     Ana  29.00     ana@mail.com  Argentina   Femenino        4\n",
            "4   Luisa  28.00   luisa@mail.com   Colombia   Femenino        8\n",
            "5  Carlos  28.75  carlos@mail.com     Brazil  Masculino        2\n"
          ]
        },
        {
          "output_type": "stream",
          "name": "stderr",
          "text": [
            "<ipython-input-3-2ed6ae3bfdd4>:27: FutureWarning: A value is trying to be set on a copy of a DataFrame or Series through chained assignment using an inplace method.\n",
            "The behavior will change in pandas 3.0. This inplace method will never work because the intermediate object on which we are setting values always behaves as a copy.\n",
            "\n",
            "For example, when doing 'df[col].method(value, inplace=True)', try using 'df.method({col: value}, inplace=True)' or df[col] = df[col].method(value) instead, to perform the operation inplace on the original object.\n",
            "\n",
            "\n",
            "  df['Genero'].replace({'M': 'Masculino', 'H': 'Masculino', 'F': 'Femenino', 'Femenino': 'Femenino'}, inplace=True)\n"
          ]
        }
      ]
    },
    {
      "cell_type": "code",
      "source": [],
      "metadata": {
        "id": "s6nDhJPrmEJB"
      },
      "execution_count": null,
      "outputs": []
    }
  ]
}